{
 "cells": [
  {
   "cell_type": "markdown",
   "metadata": {
    "id": "20cyQx7p_rff"
   },
   "source": [
    "# Project 2 - Text Data Cleaning and Preprocessing for Weather-Related X Feeds\n",
    "\n",
    "### DSCI 614\n",
    "\n",
    "Sean Kilfoy"
   ]
  },
  {
   "cell_type": "markdown",
   "metadata": {
    "id": "ypXtr1EjAqRd"
   },
   "source": [
    "## Scenario\n",
    "\n",
    "You are a data scientist working for the Department of Transportation. You have built a road condition dashboard. Your manager wanted to have more text data. Your manager lets you monitor the X feeds and get the latest 200 tweets regarding the weather."
   ]
  },
  {
   "cell_type": "markdown",
   "metadata": {
    "id": "AtK0R2CaAKkj"
   },
   "source": [
    "## Introduction\n",
    "\n",
    "In this project, we clean and preprocess text data from weather-related search results and X feeds. We develop a streamlined approach to extract, clean, and prepare textual data for further analysis and monitoring. We remove irrelevant information from the text using regex and web scraping techniques. Preprocessing ensures the quality and relevance of the data used in our road condition dashboard and other analytical applications within the DoT."
   ]
  },
  {
   "cell_type": "markdown",
   "metadata": {
    "id": "iKePQqCaBKal"
   },
   "source": [
    "## Winter Snowstorm Google Search\n",
    "\n",
    "We'll perform the Google search and extract the necessary information with the web-scraping Python library, `googlesearch-python`."
   ]
  },
  {
   "cell_type": "code",
   "execution_count": 23,
   "metadata": {
    "id": "7Jvq1FmjBhrE",
    "scrolled": true
   },
   "outputs": [],
   "source": [
    "%%capture\n",
    "!pip install googlesearch-python wordcloud spacy\n",
    "from googlesearch import search\n",
    "import pandas as pd"
   ]
  },
  {
   "cell_type": "markdown",
   "metadata": {
    "id": "boOJjUZ_B16V"
   },
   "source": [
    "We'll set `num_results` to 100 to extract the latest 100 results and append URLs, titles, and descriptions to a data frame."
   ]
  },
  {
   "cell_type": "code",
   "execution_count": 26,
   "metadata": {
    "colab": {
     "base_uri": "https://localhost:8080/",
     "height": 362
    },
    "id": "DvZYR0grB4FI",
    "outputId": "abb16623-9f67-47a1-bfc7-4fb94f2c83f2"
   },
   "outputs": [
    {
     "data": {
      "text/html": [
       "<div>\n",
       "<style scoped>\n",
       "    .dataframe tbody tr th:only-of-type {\n",
       "        vertical-align: middle;\n",
       "    }\n",
       "\n",
       "    .dataframe tbody tr th {\n",
       "        vertical-align: top;\n",
       "    }\n",
       "\n",
       "    .dataframe thead th {\n",
       "        text-align: right;\n",
       "    }\n",
       "</style>\n",
       "<table border=\"1\" class=\"dataframe\">\n",
       "  <thead>\n",
       "    <tr style=\"text-align: right;\">\n",
       "      <th></th>\n",
       "      <th>URL</th>\n",
       "      <th>Title</th>\n",
       "      <th>Description</th>\n",
       "    </tr>\n",
       "  </thead>\n",
       "  <tbody>\n",
       "    <tr>\n",
       "      <th>0</th>\n",
       "      <td>https://www.weather.gov/fgz/WinterStorms</td>\n",
       "      <td>Winter Storms and Blizzards</td>\n",
       "      <td>Blizzards are dangerous winter storms that are...</td>\n",
       "    </tr>\n",
       "    <tr>\n",
       "      <th>1</th>\n",
       "      <td>https://www.nssl.noaa.gov/education/svrwx101/w...</td>\n",
       "      <td>Severe Weather 101: Winter Weather Types</td>\n",
       "      <td>A winter storm is a combination of heavy snow,...</td>\n",
       "    </tr>\n",
       "    <tr>\n",
       "      <th>2</th>\n",
       "      <td>https://www.weather.gov/safety/winter-snow</td>\n",
       "      <td>Snow Storm Safety</td>\n",
       "      <td>Blizzard: Sustained winds or frequent gusts of...</td>\n",
       "    </tr>\n",
       "    <tr>\n",
       "      <th>3</th>\n",
       "      <td>https://www.redcross.org/get-help/how-to-prepa...</td>\n",
       "      <td>Winter Storm Preparedness &amp; Blizzard Safety</td>\n",
       "      <td>Each winter, hundreds are injured or killed by...</td>\n",
       "    </tr>\n",
       "    <tr>\n",
       "      <th>4</th>\n",
       "      <td>https://scied.ucar.edu/learning-zone/storms/wi...</td>\n",
       "      <td>Winter Storms - UCAR Center for Science Education</td>\n",
       "      <td>Snowstorms are one type of winter storm. Blizz...</td>\n",
       "    </tr>\n",
       "  </tbody>\n",
       "</table>\n",
       "</div>"
      ],
      "text/plain": [
       "                                                 URL  \\\n",
       "0           https://www.weather.gov/fgz/WinterStorms   \n",
       "1  https://www.nssl.noaa.gov/education/svrwx101/w...   \n",
       "2         https://www.weather.gov/safety/winter-snow   \n",
       "3  https://www.redcross.org/get-help/how-to-prepa...   \n",
       "4  https://scied.ucar.edu/learning-zone/storms/wi...   \n",
       "\n",
       "                                               Title  \\\n",
       "0                        Winter Storms and Blizzards   \n",
       "1           Severe Weather 101: Winter Weather Types   \n",
       "2                                  Snow Storm Safety   \n",
       "3        Winter Storm Preparedness & Blizzard Safety   \n",
       "4  Winter Storms - UCAR Center for Science Education   \n",
       "\n",
       "                                         Description  \n",
       "0  Blizzards are dangerous winter storms that are...  \n",
       "1  A winter storm is a combination of heavy snow,...  \n",
       "2  Blizzard: Sustained winds or frequent gusts of...  \n",
       "3  Each winter, hundreds are injured or killed by...  \n",
       "4  Snowstorms are one type of winter storm. Blizz...  "
      ]
     },
     "execution_count": 26,
     "metadata": {},
     "output_type": "execute_result"
    }
   ],
   "source": [
    "query = \"Winter snowstorm\"\n",
    "\n",
    "num_results = 100\n",
    "\n",
    "search_results = list(\n",
    "    search(\n",
    "        term=query,\n",
    "        num_results=num_results,\n",
    "        sleep_interval=5,\n",
    "        lang=\"en\",\n",
    "        advanced=True\n",
    "    )\n",
    ")\n",
    "\n",
    "data = []\n",
    "for result in search_results:\n",
    "    url = result.url\n",
    "    title = result.title\n",
    "    description = result.description\n",
    "    result_dict = {\n",
    "        'URL': url,\n",
    "        'Title': title,\n",
    "        'Description': description\n",
    "    }\n",
    "    data.append(result_dict)\n",
    "\n",
    "results_df = pd.DataFrame(data)\n",
    "results_df.head()"
   ]
  },
  {
   "cell_type": "markdown",
   "metadata": {
    "id": "oByhS_LAG-oo"
   },
   "source": [
    "## Text Data Preprocessing\n",
    "\n",
    "In this section, we will clean and refine the extracted search results to ensure the data is suitable for analysis. We'll use regex to remove unwanted elements, such as dates, URLs, short words, specific stop words, and special characters. This helps maintain the quality and relevance of our textual data, and enhances the accuracy and effectiveness of our road condition dashboard.\n",
    "\n",
    "We'll perform the following steps:\n",
    "\n",
    "1. **Concatenate the URL, title, and description:** Combine these fields into a single column to facilitate text processing.\n",
    "2. **Remove dates and times:** Use regex to eliminate date and time mentions, which are irrelevant for our analysis.\n",
    "3. **Remove hyperlinks:** Strip out any URLs to focus on the descriptive content.\n",
    "4. **Remove short words:** Exclude words with two or fewer characters as they typically add little value.\n",
    "5. **Remove specific stop words:** Eliminate common stop words that might not be covered by standard stop word lists.\n",
    "6. **Remove special characters and punctuation:** Clean the text by removing non-alphanumeric characters.\n"
   ]
  },
  {
   "cell_type": "code",
   "execution_count": 28,
   "metadata": {
    "id": "3YFFejf2Ilhj"
   },
   "outputs": [],
   "source": [
    "import re"
   ]
  },
  {
   "cell_type": "code",
   "execution_count": 29,
   "metadata": {
    "id": "zGUR4jjnEd19"
   },
   "outputs": [],
   "source": [
    "# Concatenate the URL, title, and description\n",
    "results_df['search_result'] = results_df['URL'] + \" \" + results_df['Title'] + \" \" + results_df['Description']\n",
    "\n",
    "# Remove dates and times\n",
    "date_time_pattern = r'\\b(?:\\d{1,2}(?:st|nd|rd|th)?\\s+(?:Jan(?:uary)?|Feb(?:ruary)?|Mar(?:ch)?|Apr(?:il)?|May|Jun(?:e)?|Jul(?:y)?|Aug(?:ust)?|Sep(?:tember)?|Oct(?:ober)?|Nov(?:ember)?)\\s+\\d{4})\\b|\\b\\d{1,2}:\\d{2}(?:am|pm)?\\b'\n",
    "results_df['search_result'] = results_df['search_result'].apply(lambda x: re.sub(date_time_pattern, '', x))\n",
    "\n",
    "# Remove hyperlinks\n",
    "url_pattern = r'https?://\\S+|www\\.\\S+'\n",
    "results_df['search_result'] = results_df['search_result'].apply(lambda x: re.sub(url_pattern, '', x))\n",
    "\n",
    "# Remove all words containing at most two characters\n",
    "short_words_pattern = r'\\b\\w{1,2}\\b'\n",
    "results_df['search_result'] = results_df['search_result'].apply(lambda x: re.sub(short_words_pattern, '', x))\n",
    "\n",
    "# Remove specific stop words\n",
    "stop_words = [\"are\", \"but\", \"very\", \"since\", \"could\"]\n",
    "stop_words_pattern = r'\\b(?:' + '|'.join(stop_words) + r')\\b'\n",
    "results_df['search_result'] = results_df['search_result'].apply(lambda x: re.sub(stop_words_pattern, '', x))\n",
    "\n",
    "# Remove all special characters and punctuation\n",
    "special_chars_pattern = r'[^\\w\\s]'\n",
    "results_df['search_result'] = results_df['search_result'].apply(lambda x: re.sub(special_chars_pattern, '', x))"
   ]
  },
  {
   "cell_type": "code",
   "execution_count": 30,
   "metadata": {
    "colab": {
     "base_uri": "https://localhost:8080/",
     "height": 206
    },
    "id": "9_pLA10LBf6C",
    "outputId": "62f5733b-c345-4aac-8286-131b123b073a"
   },
   "outputs": [
    {
     "data": {
      "text/html": [
       "<div>\n",
       "<style scoped>\n",
       "    .dataframe tbody tr th:only-of-type {\n",
       "        vertical-align: middle;\n",
       "    }\n",
       "\n",
       "    .dataframe tbody tr th {\n",
       "        vertical-align: top;\n",
       "    }\n",
       "\n",
       "    .dataframe thead th {\n",
       "        text-align: right;\n",
       "    }\n",
       "</style>\n",
       "<table border=\"1\" class=\"dataframe\">\n",
       "  <thead>\n",
       "    <tr style=\"text-align: right;\">\n",
       "      <th></th>\n",
       "      <th>search_result</th>\n",
       "    </tr>\n",
       "  </thead>\n",
       "  <tbody>\n",
       "    <tr>\n",
       "      <th>0</th>\n",
       "      <td>Winter Storms and Blizzards Blizzards  danger...</td>\n",
       "    </tr>\n",
       "    <tr>\n",
       "      <th>1</th>\n",
       "      <td>Severe Weather 101 Winter Weather Types  wint...</td>\n",
       "    </tr>\n",
       "    <tr>\n",
       "      <th>2</th>\n",
       "      <td>Snow Storm Safety Blizzard Sustained winds  f...</td>\n",
       "    </tr>\n",
       "    <tr>\n",
       "      <th>3</th>\n",
       "      <td>Winter Storm Preparedness  Blizzard Safety Ea...</td>\n",
       "    </tr>\n",
       "    <tr>\n",
       "      <th>4</th>\n",
       "      <td>Winter Storms  UCAR Center for Science Educat...</td>\n",
       "    </tr>\n",
       "  </tbody>\n",
       "</table>\n",
       "</div>"
      ],
      "text/plain": [
       "                                       search_result\n",
       "0   Winter Storms and Blizzards Blizzards  danger...\n",
       "1   Severe Weather 101 Winter Weather Types  wint...\n",
       "2   Snow Storm Safety Blizzard Sustained winds  f...\n",
       "3   Winter Storm Preparedness  Blizzard Safety Ea...\n",
       "4   Winter Storms  UCAR Center for Science Educat..."
      ]
     },
     "execution_count": 30,
     "metadata": {},
     "output_type": "execute_result"
    }
   ],
   "source": [
    "results_df[['search_result']].head()"
   ]
  },
  {
   "cell_type": "code",
   "execution_count": 71,
   "metadata": {},
   "outputs": [
    {
     "data": {
      "text/html": [
       "<div>\n",
       "<style scoped>\n",
       "    .dataframe tbody tr th:only-of-type {\n",
       "        vertical-align: middle;\n",
       "    }\n",
       "\n",
       "    .dataframe tbody tr th {\n",
       "        vertical-align: top;\n",
       "    }\n",
       "\n",
       "    .dataframe thead th {\n",
       "        text-align: right;\n",
       "    }\n",
       "</style>\n",
       "<table border=\"1\" class=\"dataframe\">\n",
       "  <thead>\n",
       "    <tr style=\"text-align: right;\">\n",
       "      <th></th>\n",
       "      <th>URL</th>\n",
       "      <th>Title</th>\n",
       "      <th>Description</th>\n",
       "      <th>search_result</th>\n",
       "    </tr>\n",
       "  </thead>\n",
       "  <tbody>\n",
       "    <tr>\n",
       "      <th>0</th>\n",
       "      <td>https://www.weather.gov/fgz/WinterStorms</td>\n",
       "      <td>Winter Storms and Blizzards</td>\n",
       "      <td>Blizzards are dangerous winter storms that are...</td>\n",
       "      <td>Winter Storms and Blizzards Blizzards  danger...</td>\n",
       "    </tr>\n",
       "    <tr>\n",
       "      <th>1</th>\n",
       "      <td>https://www.nssl.noaa.gov/education/svrwx101/w...</td>\n",
       "      <td>Severe Weather 101: Winter Weather Types</td>\n",
       "      <td>A winter storm is a combination of heavy snow,...</td>\n",
       "      <td>Severe Weather 101 Winter Weather Types  wint...</td>\n",
       "    </tr>\n",
       "    <tr>\n",
       "      <th>2</th>\n",
       "      <td>https://www.weather.gov/safety/winter-snow</td>\n",
       "      <td>Snow Storm Safety</td>\n",
       "      <td>Blizzard: Sustained winds or frequent gusts of...</td>\n",
       "      <td>Snow Storm Safety Blizzard Sustained winds  f...</td>\n",
       "    </tr>\n",
       "    <tr>\n",
       "      <th>3</th>\n",
       "      <td>https://www.redcross.org/get-help/how-to-prepa...</td>\n",
       "      <td>Winter Storm Preparedness &amp; Blizzard Safety</td>\n",
       "      <td>Each winter, hundreds are injured or killed by...</td>\n",
       "      <td>Winter Storm Preparedness  Blizzard Safety Ea...</td>\n",
       "    </tr>\n",
       "    <tr>\n",
       "      <th>4</th>\n",
       "      <td>https://scied.ucar.edu/learning-zone/storms/wi...</td>\n",
       "      <td>Winter Storms - UCAR Center for Science Education</td>\n",
       "      <td>Snowstorms are one type of winter storm. Blizz...</td>\n",
       "      <td>Winter Storms  UCAR Center for Science Educat...</td>\n",
       "    </tr>\n",
       "  </tbody>\n",
       "</table>\n",
       "</div>"
      ],
      "text/plain": [
       "                                                 URL  \\\n",
       "0           https://www.weather.gov/fgz/WinterStorms   \n",
       "1  https://www.nssl.noaa.gov/education/svrwx101/w...   \n",
       "2         https://www.weather.gov/safety/winter-snow   \n",
       "3  https://www.redcross.org/get-help/how-to-prepa...   \n",
       "4  https://scied.ucar.edu/learning-zone/storms/wi...   \n",
       "\n",
       "                                               Title  \\\n",
       "0                        Winter Storms and Blizzards   \n",
       "1           Severe Weather 101: Winter Weather Types   \n",
       "2                                  Snow Storm Safety   \n",
       "3        Winter Storm Preparedness & Blizzard Safety   \n",
       "4  Winter Storms - UCAR Center for Science Education   \n",
       "\n",
       "                                         Description  \\\n",
       "0  Blizzards are dangerous winter storms that are...   \n",
       "1  A winter storm is a combination of heavy snow,...   \n",
       "2  Blizzard: Sustained winds or frequent gusts of...   \n",
       "3  Each winter, hundreds are injured or killed by...   \n",
       "4  Snowstorms are one type of winter storm. Blizz...   \n",
       "\n",
       "                                       search_result  \n",
       "0   Winter Storms and Blizzards Blizzards  danger...  \n",
       "1   Severe Weather 101 Winter Weather Types  wint...  \n",
       "2   Snow Storm Safety Blizzard Sustained winds  f...  \n",
       "3   Winter Storm Preparedness  Blizzard Safety Ea...  \n",
       "4   Winter Storms  UCAR Center for Science Educat...  "
      ]
     },
     "execution_count": 71,
     "metadata": {},
     "output_type": "execute_result"
    }
   ],
   "source": [
    "results_df.head()"
   ]
  },
  {
   "cell_type": "markdown",
   "metadata": {
    "id": "hmCkplLdQ1KJ"
   },
   "source": [
    "## Real-Time Extreme Weather Search Dashboard\n",
    "\n",
    "\n"
   ]
  },
  {
   "cell_type": "code",
   "execution_count": 1,
   "metadata": {
    "id": "Y12q_uurQ3cl"
   },
   "outputs": [],
   "source": [
    "%%capture\n",
    "!pip install googlesearch-python streamlit pandas"
   ]
  },
  {
   "cell_type": "code",
   "execution_count": 12,
   "metadata": {
    "colab": {
     "base_uri": "https://localhost:8080/"
    },
    "id": "ER9ll2MgMof1",
    "outputId": "3ca5b7d3-3f04-4ddb-be3c-5d9530241355"
   },
   "outputs": [
    {
     "name": "stdout",
     "output_type": "stream",
     "text": [
      "Overwriting dashboard.py\n"
     ]
    }
   ],
   "source": [
    "%%writefile dashboard.py\n",
    "\n",
    "import streamlit as st\n",
    "import pandas as pd\n",
    "from googlesearch import search\n",
    "from datetime import datetime\n",
    "import time\n",
    "import requests\n",
    "from bs4 import BeautifulSoup\n",
    "from requests.exceptions import HTTPError\n",
    "import random\n",
    "\n",
    "# Function to perform Google search and return results in a DataFrame\n",
    "def google_search(query, num_results=5, max_retries=5):\n",
    "    search_results = []\n",
    "    retry_count = 0\n",
    "    sleep_interval = 2\n",
    "\n",
    "    while len(search_results) < num_results and retry_count < max_retries:\n",
    "        try:\n",
    "            results = list(\n",
    "                search(\n",
    "                    term=query,\n",
    "                    num_results=num_results,\n",
    "                    sleep_interval=sleep_interval,\n",
    "                    lang=\"en\",\n",
    "                    advanced=True\n",
    "                )\n",
    "            )\n",
    "            search_results.extend(results)\n",
    "            break  # Exit the loop if successful\n",
    "        except HTTPError as e:\n",
    "            if e.response.status_code == 429:\n",
    "                retry_count += 1\n",
    "                sleep_interval *= 2  # Exponential backoff\n",
    "                time.sleep(sleep_interval)\n",
    "            else:\n",
    "                raise e\n",
    "\n",
    "    data = []\n",
    "    retrieval_time = datetime.now().strftime('%Y-%m-%d %H:%M:%S')\n",
    "    for result in search_results[:num_results]:\n",
    "        url = result.url\n",
    "        title = result.title\n",
    "        description = result.description  # Use full description from the search result\n",
    "        result_dict = {\n",
    "            'URL': url,\n",
    "            'Title': title,\n",
    "            'Description': description,\n",
    "            'Retrieval Time': retrieval_time\n",
    "        }\n",
    "        data.append(result_dict)\n",
    "\n",
    "    return pd.DataFrame(data)\n",
    "\n",
    "# Streamlit application\n",
    "st.set_page_config(layout=\"wide\", initial_sidebar_state=\"collapsed\")\n",
    "st.title(\"Real-Time Extreme Weather Search Dashboard\")\n",
    "\n",
    "# Sidebar control panel\n",
    "st.sidebar.title(\"Control Panel\")\n",
    "refresh_interval = st.sidebar.slider(\"Update Interval (seconds)\", min_value=1, max_value=300, value=10)\n",
    "num_results = st.sidebar.slider(\"Number of Top Results\", min_value=1, max_value=10, value=5)\n",
    "\n",
    "# Initialize session state for queries and saved articles\n",
    "if 'queries' not in st.session_state:\n",
    "    st.session_state.queries = [\"Hurricane\", \"Winter snowstorm\"]\n",
    "if 'saved_articles' not in st.session_state:\n",
    "    st.session_state.saved_articles = []\n",
    "\n",
    "# Function to add a new search query\n",
    "def add_search():\n",
    "    st.session_state.queries.append(\"New Query\")\n",
    "    st.rerun()  # Immediately refresh the app to reflect changes\n",
    "\n",
    "# Function to remove a search query\n",
    "def remove_search(index):\n",
    "    if len(st.session_state.queries) > 1:\n",
    "        st.session_state.queries.pop(index)\n",
    "        st.rerun()  # Immediately refresh the app to reflect changes\n",
    "\n",
    "# Function to save an article\n",
    "def save_article(url, title, description):\n",
    "    st.session_state.saved_articles.append({\n",
    "        'Title': title,\n",
    "        'URL': url,\n",
    "        'Description': description\n",
    "    })\n",
    "    st.rerun()\n",
    "\n",
    "# Display input fields for each query with remove button\n",
    "for i, query in enumerate(st.session_state.queries):\n",
    "    cols = st.sidebar.columns([5, 1])\n",
    "    query_input = cols[0].text_input(f\"Search Query {i+1}\", value=query, key=f\"query_{i}\")\n",
    "    cols[1].button(\"–\", key=f\"remove_{i}\", on_click=remove_search, args=(i,))\n",
    "    st.session_state.queries[i] = query_input\n",
    "\n",
    "# Add button for new search\n",
    "st.sidebar.markdown(\n",
    "    \"\"\"\n",
    "    <style>\n",
    "    .full-width-button > div > button {\n",
    "        width: 100%;\n",
    "        font-size: 24px;\n",
    "        font-weight: bold;\n",
    "    }\n",
    "    </style>\n",
    "    \"\"\",\n",
    "    unsafe_allow_html=True\n",
    ")\n",
    "\n",
    "if st.sidebar.button(\"＋\", key=\"add\", help=\"Add New Search Query\"):\n",
    "    add_search()\n",
    "\n",
    "# Main content: Query results\n",
    "st.header(\"Query Results\")\n",
    "placeholders = [st.empty() for _ in st.session_state.queries]\n",
    "\n",
    "def update_dashboard():\n",
    "    for i, query in enumerate(st.session_state.queries):\n",
    "        results = google_search(query, num_results=num_results)\n",
    "        with placeholders[i].container():\n",
    "            st.subheader(f\"Top {num_results} Results for '{query}'\")\n",
    "            for idx, row in results.iterrows():\n",
    "                result_key = f\"{query}_{idx}_{int(time.time())}\"\n",
    "                title_col, save_col = st.columns([5, 1])\n",
    "                title_col.markdown(\n",
    "                    f\"\"\"\n",
    "                    <a href=\"{row['URL']}\" target=\"_blank\">\n",
    "                        <button style=\"width: 100%; font-size: 20px; font-weight: bold;\">\n",
    "                            {row['Title']}\n",
    "                        </button>\n",
    "                    </a>\n",
    "                    \"\"\",\n",
    "                    unsafe_allow_html=True\n",
    "                )\n",
    "                save_col.button(\"＋\", key=f\"save_{result_key}\", on_click=save_article, args=(row['URL'], row['Title'], row['Description']))\n",
    "                st.markdown(f\"<div style='text-align: justify;'>{row['Description']}</div>\", unsafe_allow_html=True)\n",
    "\n",
    "update_dashboard()\n",
    "\n",
    "# Right sidebar: Saved articles\n",
    "st.sidebar.subheader(\"Saved Articles\")\n",
    "for article in st.session_state.saved_articles:\n",
    "    st.sidebar.markdown(f\"**[{article['Title']}]({article['URL']})**\")\n",
    "    st.sidebar.markdown(f\"{article['Description']}\")\n",
    "\n",
    "# Main loop to refresh the dashboard at the specified interval\n",
    "while True:\n",
    "    update_dashboard()\n",
    "    time.sleep(refresh_interval)\n"
   ]
  },
  {
   "cell_type": "code",
   "execution_count": 13,
   "metadata": {
    "colab": {
     "base_uri": "https://localhost:8080/"
    },
    "id": "fap1yrSgSk85",
    "outputId": "3d648775-ed26-424b-b526-131b01c66e3a",
    "scrolled": true
   },
   "outputs": [
    {
     "name": "stdout",
     "output_type": "stream",
     "text": [
      "\u001b[0m\n",
      "\u001b[34m\u001b[1m  You can now view your Streamlit app in your browser.\u001b[0m\n",
      "\u001b[0m\n",
      "\u001b[34m  Local URL: \u001b[0m\u001b[1mhttp://localhost:8502\u001b[0m\n",
      "\u001b[34m  Network URL: \u001b[0m\u001b[1mhttp://192.168.50.5:8502\u001b[0m\n",
      "\u001b[0m\n",
      "^C\n",
      "\u001b[34m  Stopping...\u001b[0m\n"
     ]
    }
   ],
   "source": [
    "# Run the Streamlit app\n",
    "!streamlit run dashboard.py"
   ]
  }
 ],
 "metadata": {
  "colab": {
   "provenance": []
  },
  "kernelspec": {
   "display_name": "Python 3 (ipykernel)",
   "language": "python",
   "name": "python3"
  },
  "language_info": {
   "codemirror_mode": {
    "name": "ipython",
    "version": 3
   },
   "file_extension": ".py",
   "mimetype": "text/x-python",
   "name": "python",
   "nbconvert_exporter": "python",
   "pygments_lexer": "ipython3",
   "version": "3.12.2"
  }
 },
 "nbformat": 4,
 "nbformat_minor": 4
}
